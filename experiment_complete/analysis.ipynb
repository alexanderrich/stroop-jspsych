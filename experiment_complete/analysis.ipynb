{
 "cells": [
  {
   "cell_type": "markdown",
   "metadata": {
    "deletable": true,
    "editable": true
   },
   "source": [
    "# Basic Data Analysis of jsPsych Stroop Experiment"
   ]
  },
  {
   "cell_type": "markdown",
   "metadata": {
    "deletable": true,
    "editable": true
   },
   "source": [
    "This notebook shows you can analyze the data collected from a `psiTurk` experiment.  In this case we will analyze the data from the basic [jsPsych](http://www.jspsych.org) Stroop experiment which is shared in the [experiment exchange](http://psiturk.org/ee/Vn8uJAA2RGCSJp6pAoFgTH).  The basic format of the notebook is based on the Jupyter notebook tutorial from Jess Hamrick at the Data on the Mind workshop 2017."
   ]
  },
  {
   "cell_type": "markdown",
   "metadata": {
    "deletable": true,
    "editable": true
   },
   "source": [
    "## Loading Data"
   ]
  },
  {
   "cell_type": "markdown",
   "metadata": {
    "deletable": true,
    "editable": true
   },
   "source": [
    "The first thing we need to do is to actually load our data.  Typically you might host your data in a MySQL database in some remote location (up to you) but in this example we are doing to use the simple SQLite solution that most experiments in `psiTurk` are configured to use by default."
   ]
  },
  {
   "cell_type": "code",
   "execution_count": 8,
   "metadata": {
    "collapsed": false,
    "deletable": true,
    "editable": true
   },
   "outputs": [
    {
     "data": {
      "text/html": [
       "<div>\n",
       "<table border=\"1\" class=\"dataframe\">\n",
       "  <thead>\n",
       "    <tr style=\"text-align: right;\">\n",
       "      <th></th>\n",
       "      <th>uniqueid</th>\n",
       "      <th>assignmentid</th>\n",
       "      <th>workerid</th>\n",
       "      <th>hitid</th>\n",
       "      <th>ipaddress</th>\n",
       "      <th>browser</th>\n",
       "      <th>platform</th>\n",
       "      <th>language</th>\n",
       "      <th>cond</th>\n",
       "      <th>counterbalance</th>\n",
       "      <th>codeversion</th>\n",
       "      <th>beginhit</th>\n",
       "      <th>beginexp</th>\n",
       "      <th>endhit</th>\n",
       "      <th>bonus</th>\n",
       "      <th>status</th>\n",
       "      <th>datastring</th>\n",
       "    </tr>\n",
       "  </thead>\n",
       "  <tbody>\n",
       "    <tr>\n",
       "      <th>0</th>\n",
       "      <td>debugDRUEO3:debugUQKA4L</td>\n",
       "      <td>debugUQKA4L</td>\n",
       "      <td>debugDRUEO3</td>\n",
       "      <td>debugJ8N002</td>\n",
       "      <td>127.0.0.1</td>\n",
       "      <td>safari</td>\n",
       "      <td>macos</td>\n",
       "      <td>UNKNOWN</td>\n",
       "      <td>0</td>\n",
       "      <td>0</td>\n",
       "      <td>1.0</td>\n",
       "      <td>2017-06-29 10:20:58.551157</td>\n",
       "      <td>2017-06-29 10:21:02.060886</td>\n",
       "      <td>None</td>\n",
       "      <td>0.0</td>\n",
       "      <td>2</td>\n",
       "      <td>{\"condition\":0,\"counterbalance\":0,\"assignmentI...</td>\n",
       "    </tr>\n",
       "    <tr>\n",
       "      <th>1</th>\n",
       "      <td>debugCZWMJJ:debugKQ6FX6</td>\n",
       "      <td>debugKQ6FX6</td>\n",
       "      <td>debugCZWMJJ</td>\n",
       "      <td>debugBM1GX6</td>\n",
       "      <td>127.0.0.1</td>\n",
       "      <td>safari</td>\n",
       "      <td>macos</td>\n",
       "      <td>UNKNOWN</td>\n",
       "      <td>0</td>\n",
       "      <td>0</td>\n",
       "      <td>1.0</td>\n",
       "      <td>2017-06-29 10:22:47.276795</td>\n",
       "      <td>2017-06-29 10:23:41.060609</td>\n",
       "      <td>2017-06-29 10:24:01.685343</td>\n",
       "      <td>1.0</td>\n",
       "      <td>3</td>\n",
       "      <td>{\"condition\":0,\"counterbalance\":0,\"assignmentI...</td>\n",
       "    </tr>\n",
       "    <tr>\n",
       "      <th>2</th>\n",
       "      <td>debugG6N56A:debug0ORAEG</td>\n",
       "      <td>debug0ORAEG</td>\n",
       "      <td>debugG6N56A</td>\n",
       "      <td>debug3A7934</td>\n",
       "      <td>127.0.0.1</td>\n",
       "      <td>safari</td>\n",
       "      <td>macos</td>\n",
       "      <td>UNKNOWN</td>\n",
       "      <td>0</td>\n",
       "      <td>0</td>\n",
       "      <td>1.0</td>\n",
       "      <td>2017-06-29 10:24:08.999264</td>\n",
       "      <td>2017-06-29 10:24:11.899971</td>\n",
       "      <td>2017-06-29 10:24:34.234970</td>\n",
       "      <td>1.0</td>\n",
       "      <td>3</td>\n",
       "      <td>{\"condition\":0,\"counterbalance\":0,\"assignmentI...</td>\n",
       "    </tr>\n",
       "    <tr>\n",
       "      <th>3</th>\n",
       "      <td>debugDLEU3I:debugTHI6FM</td>\n",
       "      <td>debugTHI6FM</td>\n",
       "      <td>debugDLEU3I</td>\n",
       "      <td>debugUUQ80N</td>\n",
       "      <td>127.0.0.1</td>\n",
       "      <td>safari</td>\n",
       "      <td>macos</td>\n",
       "      <td>UNKNOWN</td>\n",
       "      <td>0</td>\n",
       "      <td>0</td>\n",
       "      <td>1.0</td>\n",
       "      <td>2017-06-29 10:24:41.070241</td>\n",
       "      <td>2017-06-29 10:24:44.275413</td>\n",
       "      <td>2017-06-29 10:25:01.190551</td>\n",
       "      <td>1.0</td>\n",
       "      <td>3</td>\n",
       "      <td>{\"condition\":0,\"counterbalance\":0,\"assignmentI...</td>\n",
       "    </tr>\n",
       "    <tr>\n",
       "      <th>4</th>\n",
       "      <td>debugEW4WHI:debugDHU48K</td>\n",
       "      <td>debugDHU48K</td>\n",
       "      <td>debugEW4WHI</td>\n",
       "      <td>debug77MX1G</td>\n",
       "      <td>127.0.0.1</td>\n",
       "      <td>safari</td>\n",
       "      <td>macos</td>\n",
       "      <td>UNKNOWN</td>\n",
       "      <td>0</td>\n",
       "      <td>0</td>\n",
       "      <td>1.0</td>\n",
       "      <td>2017-06-29 10:25:08.194796</td>\n",
       "      <td>2017-06-29 10:25:10.874175</td>\n",
       "      <td>2017-06-29 10:25:27.970057</td>\n",
       "      <td>1.0</td>\n",
       "      <td>3</td>\n",
       "      <td>{\"condition\":0,\"counterbalance\":0,\"assignmentI...</td>\n",
       "    </tr>\n",
       "  </tbody>\n",
       "</table>\n",
       "</div>"
      ],
      "text/plain": [
       "                  uniqueid assignmentid     workerid        hitid  ipaddress  \\\n",
       "0  debugDRUEO3:debugUQKA4L  debugUQKA4L  debugDRUEO3  debugJ8N002  127.0.0.1   \n",
       "1  debugCZWMJJ:debugKQ6FX6  debugKQ6FX6  debugCZWMJJ  debugBM1GX6  127.0.0.1   \n",
       "2  debugG6N56A:debug0ORAEG  debug0ORAEG  debugG6N56A  debug3A7934  127.0.0.1   \n",
       "3  debugDLEU3I:debugTHI6FM  debugTHI6FM  debugDLEU3I  debugUUQ80N  127.0.0.1   \n",
       "4  debugEW4WHI:debugDHU48K  debugDHU48K  debugEW4WHI  debug77MX1G  127.0.0.1   \n",
       "\n",
       "  browser platform language  cond  counterbalance codeversion  \\\n",
       "0  safari    macos  UNKNOWN     0               0         1.0   \n",
       "1  safari    macos  UNKNOWN     0               0         1.0   \n",
       "2  safari    macos  UNKNOWN     0               0         1.0   \n",
       "3  safari    macos  UNKNOWN     0               0         1.0   \n",
       "4  safari    macos  UNKNOWN     0               0         1.0   \n",
       "\n",
       "                     beginhit                    beginexp  \\\n",
       "0  2017-06-29 10:20:58.551157  2017-06-29 10:21:02.060886   \n",
       "1  2017-06-29 10:22:47.276795  2017-06-29 10:23:41.060609   \n",
       "2  2017-06-29 10:24:08.999264  2017-06-29 10:24:11.899971   \n",
       "3  2017-06-29 10:24:41.070241  2017-06-29 10:24:44.275413   \n",
       "4  2017-06-29 10:25:08.194796  2017-06-29 10:25:10.874175   \n",
       "\n",
       "                       endhit  bonus  status  \\\n",
       "0                        None    0.0       2   \n",
       "1  2017-06-29 10:24:01.685343    1.0       3   \n",
       "2  2017-06-29 10:24:34.234970    1.0       3   \n",
       "3  2017-06-29 10:25:01.190551    1.0       3   \n",
       "4  2017-06-29 10:25:27.970057    1.0       3   \n",
       "\n",
       "                                          datastring  \n",
       "0  {\"condition\":0,\"counterbalance\":0,\"assignmentI...  \n",
       "1  {\"condition\":0,\"counterbalance\":0,\"assignmentI...  \n",
       "2  {\"condition\":0,\"counterbalance\":0,\"assignmentI...  \n",
       "3  {\"condition\":0,\"counterbalance\":0,\"assignmentI...  \n",
       "4  {\"condition\":0,\"counterbalance\":0,\"assignmentI...  "
      ]
     },
     "execution_count": 8,
     "metadata": {},
     "output_type": "execute_result"
    }
   ],
   "source": [
    "import pandas as pd\n",
    "import sqlite3\n",
    "import json\n",
    "\n",
    "# Read sqlite query results into a pandas DataFrame\n",
    "con = sqlite3.connect(\"participants-demo.db\")\n",
    "df = pd.read_sql_query(\"SELECT * from turkdemo\", con)\n",
    "con.close()\n",
    "\n",
    "# verify that result of SQL query is stored in the dataframe\n",
    "df.head()"
   ]
  },
  {
   "cell_type": "markdown",
   "metadata": {
    "deletable": true,
    "editable": true
   },
   "source": [
    "The data structure from psiTurk is pretty scary.  It is not \"tidy\".  But it is highly reducdant and includes lots of relevant information about participants in your study.  Most of the data frame columns at this stage describe general things about each participant (e.g., when they began the hit, when they ended the hit, when they began the experiment, the value of their bonus, etc...).  The `datastring` column includes a JSON representation of the actual data collected in the experiment and so we first have to parse this string before it is useful."
   ]
  },
  {
   "cell_type": "markdown",
   "metadata": {
    "deletable": true,
    "editable": true
   },
   "source": [
    "## Parse JSON datastring"
   ]
  },
  {
   "cell_type": "markdown",
   "metadata": {
    "deletable": true,
    "editable": true
   },
   "source": [
    "The first thing you want to do is remove subjects who do not have a valid datastring or who's status is below 3.  The status variable indicates how far into the experiment a participant has gotten (see [this link for full list of status codes](https://github.com/NYUCCL/psiTurk/blob/master/psiturk/experiment.py#L50)).  3 or greater currently means that they completed the task and so their data is probably safe to analyze."
   ]
  },
  {
   "cell_type": "code",
   "execution_count": 10,
   "metadata": {
    "collapsed": false,
    "deletable": true,
    "editable": true
   },
   "outputs": [
    {
     "data": {
      "text/html": [
       "<div>\n",
       "<table border=\"1\" class=\"dataframe\">\n",
       "  <thead>\n",
       "    <tr style=\"text-align: right;\">\n",
       "      <th></th>\n",
       "      <th>uniqueid</th>\n",
       "      <th>assignmentid</th>\n",
       "      <th>workerid</th>\n",
       "      <th>hitid</th>\n",
       "      <th>ipaddress</th>\n",
       "      <th>browser</th>\n",
       "      <th>platform</th>\n",
       "      <th>language</th>\n",
       "      <th>cond</th>\n",
       "      <th>counterbalance</th>\n",
       "      <th>codeversion</th>\n",
       "      <th>beginhit</th>\n",
       "      <th>beginexp</th>\n",
       "      <th>endhit</th>\n",
       "      <th>bonus</th>\n",
       "      <th>status</th>\n",
       "      <th>datastring</th>\n",
       "    </tr>\n",
       "  </thead>\n",
       "  <tbody>\n",
       "    <tr>\n",
       "      <th>1</th>\n",
       "      <td>debugCZWMJJ:debugKQ6FX6</td>\n",
       "      <td>debugKQ6FX6</td>\n",
       "      <td>debugCZWMJJ</td>\n",
       "      <td>debugBM1GX6</td>\n",
       "      <td>127.0.0.1</td>\n",
       "      <td>safari</td>\n",
       "      <td>macos</td>\n",
       "      <td>UNKNOWN</td>\n",
       "      <td>0</td>\n",
       "      <td>0</td>\n",
       "      <td>1.0</td>\n",
       "      <td>2017-06-29 10:22:47.276795</td>\n",
       "      <td>2017-06-29 10:23:41.060609</td>\n",
       "      <td>2017-06-29 10:24:01.685343</td>\n",
       "      <td>1.0</td>\n",
       "      <td>3</td>\n",
       "      <td>{\"condition\":0,\"counterbalance\":0,\"assignmentI...</td>\n",
       "    </tr>\n",
       "    <tr>\n",
       "      <th>2</th>\n",
       "      <td>debugG6N56A:debug0ORAEG</td>\n",
       "      <td>debug0ORAEG</td>\n",
       "      <td>debugG6N56A</td>\n",
       "      <td>debug3A7934</td>\n",
       "      <td>127.0.0.1</td>\n",
       "      <td>safari</td>\n",
       "      <td>macos</td>\n",
       "      <td>UNKNOWN</td>\n",
       "      <td>0</td>\n",
       "      <td>0</td>\n",
       "      <td>1.0</td>\n",
       "      <td>2017-06-29 10:24:08.999264</td>\n",
       "      <td>2017-06-29 10:24:11.899971</td>\n",
       "      <td>2017-06-29 10:24:34.234970</td>\n",
       "      <td>1.0</td>\n",
       "      <td>3</td>\n",
       "      <td>{\"condition\":0,\"counterbalance\":0,\"assignmentI...</td>\n",
       "    </tr>\n",
       "    <tr>\n",
       "      <th>3</th>\n",
       "      <td>debugDLEU3I:debugTHI6FM</td>\n",
       "      <td>debugTHI6FM</td>\n",
       "      <td>debugDLEU3I</td>\n",
       "      <td>debugUUQ80N</td>\n",
       "      <td>127.0.0.1</td>\n",
       "      <td>safari</td>\n",
       "      <td>macos</td>\n",
       "      <td>UNKNOWN</td>\n",
       "      <td>0</td>\n",
       "      <td>0</td>\n",
       "      <td>1.0</td>\n",
       "      <td>2017-06-29 10:24:41.070241</td>\n",
       "      <td>2017-06-29 10:24:44.275413</td>\n",
       "      <td>2017-06-29 10:25:01.190551</td>\n",
       "      <td>1.0</td>\n",
       "      <td>3</td>\n",
       "      <td>{\"condition\":0,\"counterbalance\":0,\"assignmentI...</td>\n",
       "    </tr>\n",
       "    <tr>\n",
       "      <th>4</th>\n",
       "      <td>debugEW4WHI:debugDHU48K</td>\n",
       "      <td>debugDHU48K</td>\n",
       "      <td>debugEW4WHI</td>\n",
       "      <td>debug77MX1G</td>\n",
       "      <td>127.0.0.1</td>\n",
       "      <td>safari</td>\n",
       "      <td>macos</td>\n",
       "      <td>UNKNOWN</td>\n",
       "      <td>0</td>\n",
       "      <td>0</td>\n",
       "      <td>1.0</td>\n",
       "      <td>2017-06-29 10:25:08.194796</td>\n",
       "      <td>2017-06-29 10:25:10.874175</td>\n",
       "      <td>2017-06-29 10:25:27.970057</td>\n",
       "      <td>1.0</td>\n",
       "      <td>3</td>\n",
       "      <td>{\"condition\":0,\"counterbalance\":0,\"assignmentI...</td>\n",
       "    </tr>\n",
       "    <tr>\n",
       "      <th>5</th>\n",
       "      <td>debug6UKQS1:debugYI2GQ0</td>\n",
       "      <td>debugYI2GQ0</td>\n",
       "      <td>debug6UKQS1</td>\n",
       "      <td>debugO6LKVL</td>\n",
       "      <td>127.0.0.1</td>\n",
       "      <td>safari</td>\n",
       "      <td>macos</td>\n",
       "      <td>UNKNOWN</td>\n",
       "      <td>0</td>\n",
       "      <td>0</td>\n",
       "      <td>1.0</td>\n",
       "      <td>2017-06-29 10:25:34.345166</td>\n",
       "      <td>2017-06-29 10:25:36.487648</td>\n",
       "      <td>2017-06-29 10:25:58.149499</td>\n",
       "      <td>1.0</td>\n",
       "      <td>3</td>\n",
       "      <td>{\"condition\":0,\"counterbalance\":0,\"assignmentI...</td>\n",
       "    </tr>\n",
       "  </tbody>\n",
       "</table>\n",
       "</div>"
      ],
      "text/plain": [
       "                  uniqueid assignmentid     workerid        hitid  ipaddress  \\\n",
       "1  debugCZWMJJ:debugKQ6FX6  debugKQ6FX6  debugCZWMJJ  debugBM1GX6  127.0.0.1   \n",
       "2  debugG6N56A:debug0ORAEG  debug0ORAEG  debugG6N56A  debug3A7934  127.0.0.1   \n",
       "3  debugDLEU3I:debugTHI6FM  debugTHI6FM  debugDLEU3I  debugUUQ80N  127.0.0.1   \n",
       "4  debugEW4WHI:debugDHU48K  debugDHU48K  debugEW4WHI  debug77MX1G  127.0.0.1   \n",
       "5  debug6UKQS1:debugYI2GQ0  debugYI2GQ0  debug6UKQS1  debugO6LKVL  127.0.0.1   \n",
       "\n",
       "  browser platform language  cond  counterbalance codeversion  \\\n",
       "1  safari    macos  UNKNOWN     0               0         1.0   \n",
       "2  safari    macos  UNKNOWN     0               0         1.0   \n",
       "3  safari    macos  UNKNOWN     0               0         1.0   \n",
       "4  safari    macos  UNKNOWN     0               0         1.0   \n",
       "5  safari    macos  UNKNOWN     0               0         1.0   \n",
       "\n",
       "                     beginhit                    beginexp  \\\n",
       "1  2017-06-29 10:22:47.276795  2017-06-29 10:23:41.060609   \n",
       "2  2017-06-29 10:24:08.999264  2017-06-29 10:24:11.899971   \n",
       "3  2017-06-29 10:24:41.070241  2017-06-29 10:24:44.275413   \n",
       "4  2017-06-29 10:25:08.194796  2017-06-29 10:25:10.874175   \n",
       "5  2017-06-29 10:25:34.345166  2017-06-29 10:25:36.487648   \n",
       "\n",
       "                       endhit  bonus  status  \\\n",
       "1  2017-06-29 10:24:01.685343    1.0       3   \n",
       "2  2017-06-29 10:24:34.234970    1.0       3   \n",
       "3  2017-06-29 10:25:01.190551    1.0       3   \n",
       "4  2017-06-29 10:25:27.970057    1.0       3   \n",
       "5  2017-06-29 10:25:58.149499    1.0       3   \n",
       "\n",
       "                                          datastring  \n",
       "1  {\"condition\":0,\"counterbalance\":0,\"assignmentI...  \n",
       "2  {\"condition\":0,\"counterbalance\":0,\"assignmentI...  \n",
       "3  {\"condition\":0,\"counterbalance\":0,\"assignmentI...  \n",
       "4  {\"condition\":0,\"counterbalance\":0,\"assignmentI...  \n",
       "5  {\"condition\":0,\"counterbalance\":0,\"assignmentI...  "
      ]
     },
     "execution_count": 10,
     "metadata": {},
     "output_type": "execute_result"
    }
   ],
   "source": [
    "# remove subjects where the data string is empty or status is below 3\n",
    "dfclean=df.query(\"datastring == datastring and status>=3\")\n",
    "dfclean.head()"
   ]
  },
  {
   "cell_type": "markdown",
   "metadata": {
    "deletable": true,
    "editable": true
   },
   "source": [
    "It turns out one subject was excluded here for not having data.  Next we want to obtain the data from the experiment out of the JSON column.  It takes a little bit of simple data munging to get it into a tidy data format:"
   ]
  },
  {
   "cell_type": "code",
   "execution_count": 11,
   "metadata": {
    "collapsed": false,
    "deletable": true,
    "editable": true
   },
   "outputs": [
    {
     "data": {
      "text/html": [
       "<div>\n",
       "<table border=\"1\" class=\"dataframe\">\n",
       "  <thead>\n",
       "    <tr style=\"text-align: right;\">\n",
       "      <th></th>\n",
       "      <th>current_trial</th>\n",
       "      <th>dateTime</th>\n",
       "      <th>trialdata</th>\n",
       "      <th>uniqueid</th>\n",
       "      <th>color</th>\n",
       "      <th>condition</th>\n",
       "      <th>correct</th>\n",
       "      <th>correct_response</th>\n",
       "      <th>counterbalance</th>\n",
       "      <th>internal_node_id</th>\n",
       "      <th>key_press</th>\n",
       "      <th>rt</th>\n",
       "      <th>stimulus</th>\n",
       "      <th>stimulus_type</th>\n",
       "      <th>time_elapsed</th>\n",
       "      <th>trial_index</th>\n",
       "      <th>trial_type</th>\n",
       "      <th>uniqueId</th>\n",
       "      <th>word</th>\n",
       "    </tr>\n",
       "  </thead>\n",
       "  <tbody>\n",
       "    <tr>\n",
       "      <th>0</th>\n",
       "      <td>0</td>\n",
       "      <td>1498756968875</td>\n",
       "      <td>{u'rt': 1460, u'trial_type': u'text', u'unique...</td>\n",
       "      <td>debugCZWMJJ:debugKQ6FX6</td>\n",
       "      <td>NaN</td>\n",
       "      <td>0</td>\n",
       "      <td>NaN</td>\n",
       "      <td>NaN</td>\n",
       "      <td>0</td>\n",
       "      <td>0.0-0.0</td>\n",
       "      <td>32</td>\n",
       "      <td>1460</td>\n",
       "      <td>NaN</td>\n",
       "      <td>NaN</td>\n",
       "      <td>1461</td>\n",
       "      <td>0</td>\n",
       "      <td>text</td>\n",
       "      <td>debugCZWMJJ:debugKQ6FX6</td>\n",
       "      <td>NaN</td>\n",
       "    </tr>\n",
       "    <tr>\n",
       "      <th>1</th>\n",
       "      <td>1</td>\n",
       "      <td>1498756971374</td>\n",
       "      <td>{u'rt': 2494, u'trial_type': u'text', u'unique...</td>\n",
       "      <td>debugCZWMJJ:debugKQ6FX6</td>\n",
       "      <td>NaN</td>\n",
       "      <td>0</td>\n",
       "      <td>NaN</td>\n",
       "      <td>NaN</td>\n",
       "      <td>0</td>\n",
       "      <td>0.0-1.0</td>\n",
       "      <td>32</td>\n",
       "      <td>2494</td>\n",
       "      <td>NaN</td>\n",
       "      <td>NaN</td>\n",
       "      <td>3956</td>\n",
       "      <td>1</td>\n",
       "      <td>text</td>\n",
       "      <td>debugCZWMJJ:debugKQ6FX6</td>\n",
       "      <td>NaN</td>\n",
       "    </tr>\n",
       "    <tr>\n",
       "      <th>2</th>\n",
       "      <td>2</td>\n",
       "      <td>1498756972879</td>\n",
       "      <td>{u'rt': -1, u'trial_type': u'single-stim', u'u...</td>\n",
       "      <td>debugCZWMJJ:debugKQ6FX6</td>\n",
       "      <td>NaN</td>\n",
       "      <td>0</td>\n",
       "      <td>NaN</td>\n",
       "      <td>NaN</td>\n",
       "      <td>0</td>\n",
       "      <td>0.0-2.0-0.0</td>\n",
       "      <td>-1</td>\n",
       "      <td>-1</td>\n",
       "      <td>&lt;p style=\"font-size: 50px;\"&gt;+&lt;/p&gt;</td>\n",
       "      <td>fixation</td>\n",
       "      <td>5466</td>\n",
       "      <td>2</td>\n",
       "      <td>single-stim</td>\n",
       "      <td>debugCZWMJJ:debugKQ6FX6</td>\n",
       "      <td>NaN</td>\n",
       "    </tr>\n",
       "    <tr>\n",
       "      <th>3</th>\n",
       "      <td>3</td>\n",
       "      <td>1498756973991</td>\n",
       "      <td>{u'rt': 1111, u'trial_type': u'single-stim', u...</td>\n",
       "      <td>debugCZWMJJ:debugKQ6FX6</td>\n",
       "      <td>red</td>\n",
       "      <td>0</td>\n",
       "      <td>True</td>\n",
       "      <td>R</td>\n",
       "      <td>0</td>\n",
       "      <td>0.0-2.0-1.0</td>\n",
       "      <td>82</td>\n",
       "      <td>1111</td>\n",
       "      <td>&lt;p style='font-size: 50px; color: red;'&gt;RED&lt;/p&gt;</td>\n",
       "      <td>congruent</td>\n",
       "      <td>6577</td>\n",
       "      <td>3</td>\n",
       "      <td>single-stim</td>\n",
       "      <td>debugCZWMJJ:debugKQ6FX6</td>\n",
       "      <td>RED</td>\n",
       "    </tr>\n",
       "    <tr>\n",
       "      <th>4</th>\n",
       "      <td>4</td>\n",
       "      <td>1498756974491</td>\n",
       "      <td>{u'rt': -1, u'trial_type': u'single-stim', u'u...</td>\n",
       "      <td>debugCZWMJJ:debugKQ6FX6</td>\n",
       "      <td>NaN</td>\n",
       "      <td>0</td>\n",
       "      <td>NaN</td>\n",
       "      <td>NaN</td>\n",
       "      <td>0</td>\n",
       "      <td>0.0-2.0-0.1</td>\n",
       "      <td>-1</td>\n",
       "      <td>-1</td>\n",
       "      <td>&lt;p style=\"font-size: 50px;\"&gt;+&lt;/p&gt;</td>\n",
       "      <td>fixation</td>\n",
       "      <td>7078</td>\n",
       "      <td>4</td>\n",
       "      <td>single-stim</td>\n",
       "      <td>debugCZWMJJ:debugKQ6FX6</td>\n",
       "      <td>NaN</td>\n",
       "    </tr>\n",
       "  </tbody>\n",
       "</table>\n",
       "</div>"
      ],
      "text/plain": [
       "   current_trial       dateTime  \\\n",
       "0              0  1498756968875   \n",
       "1              1  1498756971374   \n",
       "2              2  1498756972879   \n",
       "3              3  1498756973991   \n",
       "4              4  1498756974491   \n",
       "\n",
       "                                           trialdata                 uniqueid  \\\n",
       "0  {u'rt': 1460, u'trial_type': u'text', u'unique...  debugCZWMJJ:debugKQ6FX6   \n",
       "1  {u'rt': 2494, u'trial_type': u'text', u'unique...  debugCZWMJJ:debugKQ6FX6   \n",
       "2  {u'rt': -1, u'trial_type': u'single-stim', u'u...  debugCZWMJJ:debugKQ6FX6   \n",
       "3  {u'rt': 1111, u'trial_type': u'single-stim', u...  debugCZWMJJ:debugKQ6FX6   \n",
       "4  {u'rt': -1, u'trial_type': u'single-stim', u'u...  debugCZWMJJ:debugKQ6FX6   \n",
       "\n",
       "  color  condition correct correct_response  counterbalance internal_node_id  \\\n",
       "0   NaN          0     NaN              NaN               0          0.0-0.0   \n",
       "1   NaN          0     NaN              NaN               0          0.0-1.0   \n",
       "2   NaN          0     NaN              NaN               0      0.0-2.0-0.0   \n",
       "3   red          0    True                R               0      0.0-2.0-1.0   \n",
       "4   NaN          0     NaN              NaN               0      0.0-2.0-0.1   \n",
       "\n",
       "   key_press    rt                                         stimulus  \\\n",
       "0         32  1460                                              NaN   \n",
       "1         32  2494                                              NaN   \n",
       "2         -1    -1                <p style=\"font-size: 50px;\">+</p>   \n",
       "3         82  1111  <p style='font-size: 50px; color: red;'>RED</p>   \n",
       "4         -1    -1                <p style=\"font-size: 50px;\">+</p>   \n",
       "\n",
       "  stimulus_type  time_elapsed  trial_index   trial_type  \\\n",
       "0           NaN          1461            0         text   \n",
       "1           NaN          3956            1         text   \n",
       "2      fixation          5466            2  single-stim   \n",
       "3     congruent          6577            3  single-stim   \n",
       "4      fixation          7078            4  single-stim   \n",
       "\n",
       "                  uniqueId word  \n",
       "0  debugCZWMJJ:debugKQ6FX6  NaN  \n",
       "1  debugCZWMJJ:debugKQ6FX6  NaN  \n",
       "2  debugCZWMJJ:debugKQ6FX6  NaN  \n",
       "3  debugCZWMJJ:debugKQ6FX6  RED  \n",
       "4  debugCZWMJJ:debugKQ6FX6  NaN  "
      ]
     },
     "execution_count": 11,
     "metadata": {},
     "output_type": "execute_result"
    }
   ],
   "source": [
    "def getTrialDataDF(data):\n",
    "    tmp=pd.DataFrame(data['data'])\n",
    "    tmp=tmp.join(pd.DataFrame(tmp['trialdata'].tolist()))\n",
    "    tmp.drop('trialdata', 1)\n",
    "    return tmp\n",
    "\n",
    "stdf = dfclean['datastring'].apply(json.loads)\n",
    "finaldata = pd.concat([getTrialDataDF(i) for i in stdf])\n",
    "finaldata.head()"
   ]
  },
  {
   "cell_type": "markdown",
   "metadata": {
    "deletable": true,
    "editable": true
   },
   "source": [
    "As you can see we not have our data in a pretty tidy format where rows are trials and columns describe the nature of a trial and the response/data the subject gave."
   ]
  },
  {
   "cell_type": "markdown",
   "metadata": {
    "deletable": true,
    "editable": true
   },
   "source": [
    "## Analyze the mean reaction time for each condition"
   ]
  },
  {
   "cell_type": "markdown",
   "metadata": {
    "deletable": true,
    "editable": true
   },
   "source": [
    "Next let's just see an example of a simple analysis of the mean reaction time as a function of condition.  First we need to import some plotting libraries."
   ]
  },
  {
   "cell_type": "code",
   "execution_count": 12,
   "metadata": {
    "collapsed": true,
    "deletable": true,
    "editable": true
   },
   "outputs": [],
   "source": [
    "import numpy as np\n",
    "%matplotlib inline\n",
    "import matplotlib\n",
    "import matplotlib.pyplot as plt"
   ]
  },
  {
   "cell_type": "markdown",
   "metadata": {
    "deletable": true,
    "editable": true
   },
   "source": [
    "Next, we focus on the trials where `trial_type` is `single-stim.`  This is the actual experimental trials and not the instruction screens, etc...  We then group the data by the different values on the congruence column and apply the mean."
   ]
  },
  {
   "cell_type": "code",
   "execution_count": 18,
   "metadata": {
    "collapsed": false,
    "deletable": true,
    "editable": true
   },
   "outputs": [
    {
     "data": {
      "text/plain": [
       "stimulus_type\n",
       "congruent      1652.333333\n",
       "incongruent    1741.444444\n",
       "unrelated      1282.500000\n",
       "Name: rt, dtype: float64"
      ]
     },
     "execution_count": 18,
     "metadata": {},
     "output_type": "execute_result"
    }
   ],
   "source": [
    "data=finaldata.query(\"trial_type == 'single-stim' and stimulus_type != 'fixation'\")\n",
    "means=data.groupby([\"stimulus_type\"])[\"rt\"].apply(np.mean)\n",
    "means"
   ]
  },
  {
   "cell_type": "markdown",
   "metadata": {
    "deletable": true,
    "editable": true
   },
   "source": [
    "## Plotting"
   ]
  },
  {
   "cell_type": "markdown",
   "metadata": {
    "deletable": true,
    "editable": true
   },
   "source": [
    "Finally, we can plot the means, hopefully revealing the people are faster on congruent trials than incongruent or unrelated."
   ]
  },
  {
   "cell_type": "code",
   "execution_count": 19,
   "metadata": {
    "collapsed": false,
    "deletable": true,
    "editable": true
   },
   "outputs": [
    {
     "data": {
      "text/plain": [
       "(<matplotlib.figure.Figure at 0x115cb95d0>,\n",
       " <matplotlib.axes._subplots.AxesSubplot at 0x115db4090>)"
      ]
     },
     "execution_count": 19,
     "metadata": {},
     "output_type": "execute_result"
    },
    {
     "data": {
      "image/png": "[encoded data removed]",
      "text/plain": [
       "<matplotlib.figure.Figure at 0x115cb95d0>"
      ]
     },
     "metadata": {},
     "output_type": "display_data"
    }
   ],
   "source": [
    "import seaborn as sns\n",
    "\n",
    "def plot_v1(data):\n",
    "    fig, ax = plt.subplots()\n",
    "    ax.bar(np.arange(len(data)), data, align='center')\n",
    "    ax.set_ylim(0, 2500)\n",
    "    ax.set_xticks(np.arange(len(data)))\n",
    "    ax.set_xticklabels([x for x in data.index])\n",
    "    return fig, ax\n",
    "\n",
    "plot_v1(means)"
   ]
  },
  {
   "cell_type": "code",
   "execution_count": null,
   "metadata": {
    "collapsed": true
   },
   "outputs": [],
   "source": []
  }
 ],
 "metadata": {
  "kernelspec": {
   "display_name": "Python 2",
   "language": "python",
   "name": "python2"
  },
  "language_info": {
   "codemirror_mode": {
    "name": "ipython",
    "version": 2
   },
   "file_extension": ".py",
   "mimetype": "text/x-python",
   "name": "python",
   "nbconvert_exporter": "python",
   "pygments_lexer": "ipython2",
   "version": "2.7.11"
  }
 },
 "nbformat": 4,
 "nbformat_minor": 2
}
