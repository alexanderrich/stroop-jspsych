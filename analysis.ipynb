{
 "cells": [
  {
   "cell_type": "markdown",
   "metadata": {},
   "source": [
    "# Basic Data Analysis of jsPsych Stroop Experiment"
   ]
  },
  {
   "cell_type": "markdown",
   "metadata": {},
   "source": [
    "This notebook shows you can analyze the data collected from a `psiTurk` experiment.  In this case we will analyze the data from the basic [jsPsych](http://www.jspsych.org) Stroop experiment which is shared in the [experiment exchange](http://psiturk.org/ee/Vn8uJAA2RGCSJp6pAoFgTH).  The basic format of the notebook is based on the Jupyter notebook tutorial from Jess Hamrick at the Data on the Mind workshop 2017."
   ]
  },
  {
   "cell_type": "markdown",
   "metadata": {},
   "source": [
    "## Loading Data"
   ]
  },
  {
   "cell_type": "markdown",
   "metadata": {},
   "source": [
    "The first thing we need to do is to actually load our data.  Typically you might host your data in a MySQL database in some remote location (up to you) but in this example we are doing to use the simple SQLite solution that most experiments in `psiTurk` are configured to use by default."
   ]
  },
  {
   "cell_type": "code",
   "execution_count": 184,
   "metadata": {
    "collapsed": false
   },
   "outputs": [
    {
     "data": {
      "text/html": [
       "<div>\n",
       "<table border=\"1\" class=\"dataframe\">\n",
       "  <thead>\n",
       "    <tr style=\"text-align: right;\">\n",
       "      <th></th>\n",
       "      <th>uniqueid</th>\n",
       "      <th>assignmentid</th>\n",
       "      <th>workerid</th>\n",
       "      <th>hitid</th>\n",
       "      <th>ipaddress</th>\n",
       "      <th>browser</th>\n",
       "      <th>platform</th>\n",
       "      <th>language</th>\n",
       "      <th>cond</th>\n",
       "      <th>counterbalance</th>\n",
       "      <th>codeversion</th>\n",
       "      <th>beginhit</th>\n",
       "      <th>beginexp</th>\n",
       "      <th>endhit</th>\n",
       "      <th>bonus</th>\n",
       "      <th>status</th>\n",
       "      <th>datastring</th>\n",
       "    </tr>\n",
       "  </thead>\n",
       "  <tbody>\n",
       "    <tr>\n",
       "      <th>0</th>\n",
       "      <td>debugF52I9A:debugRB4SLX</td>\n",
       "      <td>debugRB4SLX</td>\n",
       "      <td>debugF52I9A</td>\n",
       "      <td>debug2H79P7</td>\n",
       "      <td>127.0.0.1</td>\n",
       "      <td>safari</td>\n",
       "      <td>macos</td>\n",
       "      <td>UNKNOWN</td>\n",
       "      <td>0</td>\n",
       "      <td>0</td>\n",
       "      <td>1.0</td>\n",
       "      <td>2017-06-27 12:16:30.072183</td>\n",
       "      <td>None</td>\n",
       "      <td>2017-06-27 12:17:12.614124</td>\n",
       "      <td>1.0</td>\n",
       "      <td>3</td>\n",
       "      <td>{\"condition\":0,\"counterbalance\":0,\"assignmentI...</td>\n",
       "    </tr>\n",
       "    <tr>\n",
       "      <th>1</th>\n",
       "      <td>debugG8X84I:debugXZ51MU</td>\n",
       "      <td>debugXZ51MU</td>\n",
       "      <td>debugG8X84I</td>\n",
       "      <td>debugU9733I</td>\n",
       "      <td>127.0.0.1</td>\n",
       "      <td>safari</td>\n",
       "      <td>macos</td>\n",
       "      <td>UNKNOWN</td>\n",
       "      <td>0</td>\n",
       "      <td>0</td>\n",
       "      <td>1.0</td>\n",
       "      <td>2017-06-27 12:17:27.756568</td>\n",
       "      <td>None</td>\n",
       "      <td>2017-06-27 12:18:10.326320</td>\n",
       "      <td>1.0</td>\n",
       "      <td>3</td>\n",
       "      <td>{\"condition\":0,\"counterbalance\":0,\"assignmentI...</td>\n",
       "    </tr>\n",
       "    <tr>\n",
       "      <th>2</th>\n",
       "      <td>debugUNVUKJ:debug7HGX36</td>\n",
       "      <td>debug7HGX36</td>\n",
       "      <td>debugUNVUKJ</td>\n",
       "      <td>debugIXM4GP</td>\n",
       "      <td>127.0.0.1</td>\n",
       "      <td>safari</td>\n",
       "      <td>macos</td>\n",
       "      <td>UNKNOWN</td>\n",
       "      <td>0</td>\n",
       "      <td>0</td>\n",
       "      <td>1.0</td>\n",
       "      <td>2017-06-27 12:18:20.164248</td>\n",
       "      <td>None</td>\n",
       "      <td>2017-06-27 12:18:54.532338</td>\n",
       "      <td>1.0</td>\n",
       "      <td>3</td>\n",
       "      <td>{\"condition\":0,\"counterbalance\":0,\"assignmentI...</td>\n",
       "    </tr>\n",
       "    <tr>\n",
       "      <th>3</th>\n",
       "      <td>debugN92K5P:debug0H38PC</td>\n",
       "      <td>debug0H38PC</td>\n",
       "      <td>debugN92K5P</td>\n",
       "      <td>debugXLYQ4V</td>\n",
       "      <td>127.0.0.1</td>\n",
       "      <td>safari</td>\n",
       "      <td>macos</td>\n",
       "      <td>UNKNOWN</td>\n",
       "      <td>0</td>\n",
       "      <td>0</td>\n",
       "      <td>1.0</td>\n",
       "      <td>2017-06-27 12:19:04.105291</td>\n",
       "      <td>None</td>\n",
       "      <td>2017-06-27 12:19:39.220933</td>\n",
       "      <td>1.0</td>\n",
       "      <td>3</td>\n",
       "      <td>{\"condition\":0,\"counterbalance\":0,\"assignmentI...</td>\n",
       "    </tr>\n",
       "    <tr>\n",
       "      <th>4</th>\n",
       "      <td>debugF9AUUZ:debug38B2FD</td>\n",
       "      <td>debug38B2FD</td>\n",
       "      <td>debugF9AUUZ</td>\n",
       "      <td>debugYNUPHU</td>\n",
       "      <td>127.0.0.1</td>\n",
       "      <td>safari</td>\n",
       "      <td>macos</td>\n",
       "      <td>UNKNOWN</td>\n",
       "      <td>0</td>\n",
       "      <td>0</td>\n",
       "      <td>1.0</td>\n",
       "      <td>2017-06-27 12:19:48.429272</td>\n",
       "      <td>None</td>\n",
       "      <td>None</td>\n",
       "      <td>0.0</td>\n",
       "      <td>1</td>\n",
       "      <td>None</td>\n",
       "    </tr>\n",
       "  </tbody>\n",
       "</table>\n",
       "</div>"
      ],
      "text/plain": [
       "                  uniqueid assignmentid     workerid        hitid  ipaddress  \\\n",
       "0  debugF52I9A:debugRB4SLX  debugRB4SLX  debugF52I9A  debug2H79P7  127.0.0.1   \n",
       "1  debugG8X84I:debugXZ51MU  debugXZ51MU  debugG8X84I  debugU9733I  127.0.0.1   \n",
       "2  debugUNVUKJ:debug7HGX36  debug7HGX36  debugUNVUKJ  debugIXM4GP  127.0.0.1   \n",
       "3  debugN92K5P:debug0H38PC  debug0H38PC  debugN92K5P  debugXLYQ4V  127.0.0.1   \n",
       "4  debugF9AUUZ:debug38B2FD  debug38B2FD  debugF9AUUZ  debugYNUPHU  127.0.0.1   \n",
       "\n",
       "  browser platform language  cond  counterbalance codeversion  \\\n",
       "0  safari    macos  UNKNOWN     0               0         1.0   \n",
       "1  safari    macos  UNKNOWN     0               0         1.0   \n",
       "2  safari    macos  UNKNOWN     0               0         1.0   \n",
       "3  safari    macos  UNKNOWN     0               0         1.0   \n",
       "4  safari    macos  UNKNOWN     0               0         1.0   \n",
       "\n",
       "                     beginhit beginexp                      endhit  bonus  \\\n",
       "0  2017-06-27 12:16:30.072183     None  2017-06-27 12:17:12.614124    1.0   \n",
       "1  2017-06-27 12:17:27.756568     None  2017-06-27 12:18:10.326320    1.0   \n",
       "2  2017-06-27 12:18:20.164248     None  2017-06-27 12:18:54.532338    1.0   \n",
       "3  2017-06-27 12:19:04.105291     None  2017-06-27 12:19:39.220933    1.0   \n",
       "4  2017-06-27 12:19:48.429272     None                        None    0.0   \n",
       "\n",
       "   status                                         datastring  \n",
       "0       3  {\"condition\":0,\"counterbalance\":0,\"assignmentI...  \n",
       "1       3  {\"condition\":0,\"counterbalance\":0,\"assignmentI...  \n",
       "2       3  {\"condition\":0,\"counterbalance\":0,\"assignmentI...  \n",
       "3       3  {\"condition\":0,\"counterbalance\":0,\"assignmentI...  \n",
       "4       1                                               None  "
      ]
     },
     "execution_count": 184,
     "metadata": {},
     "output_type": "execute_result"
    }
   ],
   "source": [
    "import pandas as pd\n",
    "import sqlite3\n",
    "import json\n",
    "\n",
    "# Read sqlite query results into a pandas DataFrame\n",
    "con = sqlite3.connect(\"participants.db\")\n",
    "df = pd.read_sql_query(\"SELECT * from turkdemo\", con)\n",
    "con.close()\n",
    "\n",
    "# verify that result of SQL query is stored in the dataframe\n",
    "df.head()"
   ]
  },
  {
   "cell_type": "markdown",
   "metadata": {},
   "source": [
    "The data structure from psiTurk is pretty scary.  It is not \"tidy\".  But it is highly reducdant and includes lots of relevant information about participants in your study.  Most of the data frame columns at this stage describe general things about each participant (e.g., when they began the hit, when they ended the hit, when they began the experiment, the value of their bonus, etc...).  The `datastring` column includes a JSON representation of the actual data collected in the experiment and so we first have to parse this string before it is useful."
   ]
  },
  {
   "cell_type": "markdown",
   "metadata": {},
   "source": [
    "## Parse JSON datastring"
   ]
  },
  {
   "cell_type": "markdown",
   "metadata": {},
   "source": [
    "The first thing you want to do is remove subjects who do not have a valid datastring or who's status is below 3.  The status variable indicates how far into the experiment a participant has gotten (see [this link for full list of status codes](https://github.com/NYUCCL/psiTurk/blob/master/psiturk/experiment.py#L50)).  3 or greater currently means that they completed the task and so their data is probably safe to analyze."
   ]
  },
  {
   "cell_type": "code",
   "execution_count": 186,
   "metadata": {
    "collapsed": false
   },
   "outputs": [
    {
     "data": {
      "text/html": [
       "<div>\n",
       "<table border=\"1\" class=\"dataframe\">\n",
       "  <thead>\n",
       "    <tr style=\"text-align: right;\">\n",
       "      <th></th>\n",
       "      <th>uniqueid</th>\n",
       "      <th>assignmentid</th>\n",
       "      <th>workerid</th>\n",
       "      <th>hitid</th>\n",
       "      <th>ipaddress</th>\n",
       "      <th>browser</th>\n",
       "      <th>platform</th>\n",
       "      <th>language</th>\n",
       "      <th>cond</th>\n",
       "      <th>counterbalance</th>\n",
       "      <th>codeversion</th>\n",
       "      <th>beginhit</th>\n",
       "      <th>beginexp</th>\n",
       "      <th>endhit</th>\n",
       "      <th>bonus</th>\n",
       "      <th>status</th>\n",
       "      <th>datastring</th>\n",
       "    </tr>\n",
       "  </thead>\n",
       "  <tbody>\n",
       "    <tr>\n",
       "      <th>0</th>\n",
       "      <td>debugF52I9A:debugRB4SLX</td>\n",
       "      <td>debugRB4SLX</td>\n",
       "      <td>debugF52I9A</td>\n",
       "      <td>debug2H79P7</td>\n",
       "      <td>127.0.0.1</td>\n",
       "      <td>safari</td>\n",
       "      <td>macos</td>\n",
       "      <td>UNKNOWN</td>\n",
       "      <td>0</td>\n",
       "      <td>0</td>\n",
       "      <td>1.0</td>\n",
       "      <td>2017-06-27 12:16:30.072183</td>\n",
       "      <td>None</td>\n",
       "      <td>2017-06-27 12:17:12.614124</td>\n",
       "      <td>1.0</td>\n",
       "      <td>3</td>\n",
       "      <td>{\"condition\":0,\"counterbalance\":0,\"assignmentI...</td>\n",
       "    </tr>\n",
       "    <tr>\n",
       "      <th>1</th>\n",
       "      <td>debugG8X84I:debugXZ51MU</td>\n",
       "      <td>debugXZ51MU</td>\n",
       "      <td>debugG8X84I</td>\n",
       "      <td>debugU9733I</td>\n",
       "      <td>127.0.0.1</td>\n",
       "      <td>safari</td>\n",
       "      <td>macos</td>\n",
       "      <td>UNKNOWN</td>\n",
       "      <td>0</td>\n",
       "      <td>0</td>\n",
       "      <td>1.0</td>\n",
       "      <td>2017-06-27 12:17:27.756568</td>\n",
       "      <td>None</td>\n",
       "      <td>2017-06-27 12:18:10.326320</td>\n",
       "      <td>1.0</td>\n",
       "      <td>3</td>\n",
       "      <td>{\"condition\":0,\"counterbalance\":0,\"assignmentI...</td>\n",
       "    </tr>\n",
       "    <tr>\n",
       "      <th>2</th>\n",
       "      <td>debugUNVUKJ:debug7HGX36</td>\n",
       "      <td>debug7HGX36</td>\n",
       "      <td>debugUNVUKJ</td>\n",
       "      <td>debugIXM4GP</td>\n",
       "      <td>127.0.0.1</td>\n",
       "      <td>safari</td>\n",
       "      <td>macos</td>\n",
       "      <td>UNKNOWN</td>\n",
       "      <td>0</td>\n",
       "      <td>0</td>\n",
       "      <td>1.0</td>\n",
       "      <td>2017-06-27 12:18:20.164248</td>\n",
       "      <td>None</td>\n",
       "      <td>2017-06-27 12:18:54.532338</td>\n",
       "      <td>1.0</td>\n",
       "      <td>3</td>\n",
       "      <td>{\"condition\":0,\"counterbalance\":0,\"assignmentI...</td>\n",
       "    </tr>\n",
       "    <tr>\n",
       "      <th>3</th>\n",
       "      <td>debugN92K5P:debug0H38PC</td>\n",
       "      <td>debug0H38PC</td>\n",
       "      <td>debugN92K5P</td>\n",
       "      <td>debugXLYQ4V</td>\n",
       "      <td>127.0.0.1</td>\n",
       "      <td>safari</td>\n",
       "      <td>macos</td>\n",
       "      <td>UNKNOWN</td>\n",
       "      <td>0</td>\n",
       "      <td>0</td>\n",
       "      <td>1.0</td>\n",
       "      <td>2017-06-27 12:19:04.105291</td>\n",
       "      <td>None</td>\n",
       "      <td>2017-06-27 12:19:39.220933</td>\n",
       "      <td>1.0</td>\n",
       "      <td>3</td>\n",
       "      <td>{\"condition\":0,\"counterbalance\":0,\"assignmentI...</td>\n",
       "    </tr>\n",
       "    <tr>\n",
       "      <th>5</th>\n",
       "      <td>debugTW8Q9O:debugOIJTEG</td>\n",
       "      <td>debugOIJTEG</td>\n",
       "      <td>debugTW8Q9O</td>\n",
       "      <td>debugOO2E3X</td>\n",
       "      <td>127.0.0.1</td>\n",
       "      <td>safari</td>\n",
       "      <td>macos</td>\n",
       "      <td>UNKNOWN</td>\n",
       "      <td>0</td>\n",
       "      <td>0</td>\n",
       "      <td>1.0</td>\n",
       "      <td>2017-06-27 12:20:27.501480</td>\n",
       "      <td>None</td>\n",
       "      <td>2017-06-27 12:20:55.747086</td>\n",
       "      <td>1.0</td>\n",
       "      <td>3</td>\n",
       "      <td>{\"condition\":0,\"counterbalance\":0,\"assignmentI...</td>\n",
       "    </tr>\n",
       "  </tbody>\n",
       "</table>\n",
       "</div>"
      ],
      "text/plain": [
       "                  uniqueid assignmentid     workerid        hitid  ipaddress  \\\n",
       "0  debugF52I9A:debugRB4SLX  debugRB4SLX  debugF52I9A  debug2H79P7  127.0.0.1   \n",
       "1  debugG8X84I:debugXZ51MU  debugXZ51MU  debugG8X84I  debugU9733I  127.0.0.1   \n",
       "2  debugUNVUKJ:debug7HGX36  debug7HGX36  debugUNVUKJ  debugIXM4GP  127.0.0.1   \n",
       "3  debugN92K5P:debug0H38PC  debug0H38PC  debugN92K5P  debugXLYQ4V  127.0.0.1   \n",
       "5  debugTW8Q9O:debugOIJTEG  debugOIJTEG  debugTW8Q9O  debugOO2E3X  127.0.0.1   \n",
       "\n",
       "  browser platform language  cond  counterbalance codeversion  \\\n",
       "0  safari    macos  UNKNOWN     0               0         1.0   \n",
       "1  safari    macos  UNKNOWN     0               0         1.0   \n",
       "2  safari    macos  UNKNOWN     0               0         1.0   \n",
       "3  safari    macos  UNKNOWN     0               0         1.0   \n",
       "5  safari    macos  UNKNOWN     0               0         1.0   \n",
       "\n",
       "                     beginhit beginexp                      endhit  bonus  \\\n",
       "0  2017-06-27 12:16:30.072183     None  2017-06-27 12:17:12.614124    1.0   \n",
       "1  2017-06-27 12:17:27.756568     None  2017-06-27 12:18:10.326320    1.0   \n",
       "2  2017-06-27 12:18:20.164248     None  2017-06-27 12:18:54.532338    1.0   \n",
       "3  2017-06-27 12:19:04.105291     None  2017-06-27 12:19:39.220933    1.0   \n",
       "5  2017-06-27 12:20:27.501480     None  2017-06-27 12:20:55.747086    1.0   \n",
       "\n",
       "   status                                         datastring  \n",
       "0       3  {\"condition\":0,\"counterbalance\":0,\"assignmentI...  \n",
       "1       3  {\"condition\":0,\"counterbalance\":0,\"assignmentI...  \n",
       "2       3  {\"condition\":0,\"counterbalance\":0,\"assignmentI...  \n",
       "3       3  {\"condition\":0,\"counterbalance\":0,\"assignmentI...  \n",
       "5       3  {\"condition\":0,\"counterbalance\":0,\"assignmentI...  "
      ]
     },
     "execution_count": 186,
     "metadata": {},
     "output_type": "execute_result"
    }
   ],
   "source": [
    "# remove subjects where the data string is empty or status is below 3\n",
    "dfclean=df.query(\"datastring == datastring and status>=3\")\n",
    "dfclean.head()"
   ]
  },
  {
   "cell_type": "markdown",
   "metadata": {},
   "source": [
    "It turns out one subject was excluded here for not having data.  Next we want to obtain the data from the experiment out of the JSON column.  It takes a little bit of simple data munging to get it into a tidy data format:"
   ]
  },
  {
   "cell_type": "code",
   "execution_count": 187,
   "metadata": {
    "collapsed": false
   },
   "outputs": [
    {
     "data": {
      "text/html": [
       "<div>\n",
       "<table border=\"1\" class=\"dataframe\">\n",
       "  <thead>\n",
       "    <tr style=\"text-align: right;\">\n",
       "      <th></th>\n",
       "      <th>current_trial</th>\n",
       "      <th>dateTime</th>\n",
       "      <th>trialdata</th>\n",
       "      <th>uniqueid</th>\n",
       "      <th>color</th>\n",
       "      <th>condition</th>\n",
       "      <th>congruence</th>\n",
       "      <th>correct_response</th>\n",
       "      <th>counterbalance</th>\n",
       "      <th>internal_node_id</th>\n",
       "      <th>key_press</th>\n",
       "      <th>rt</th>\n",
       "      <th>stimulus</th>\n",
       "      <th>time_elapsed</th>\n",
       "      <th>trial_index</th>\n",
       "      <th>trial_type</th>\n",
       "      <th>uniqueId</th>\n",
       "      <th>word</th>\n",
       "    </tr>\n",
       "  </thead>\n",
       "  <tbody>\n",
       "    <tr>\n",
       "      <th>0</th>\n",
       "      <td>0</td>\n",
       "      <td>1498590992040</td>\n",
       "      <td>{u'rt': 1643, u'trial_type': u'text', u'counte...</td>\n",
       "      <td>debugF52I9A:debugRB4SLX</td>\n",
       "      <td>NaN</td>\n",
       "      <td>0</td>\n",
       "      <td>NaN</td>\n",
       "      <td>NaN</td>\n",
       "      <td>0</td>\n",
       "      <td>0.0-0.0</td>\n",
       "      <td>32</td>\n",
       "      <td>1643</td>\n",
       "      <td>NaN</td>\n",
       "      <td>1645</td>\n",
       "      <td>0</td>\n",
       "      <td>text</td>\n",
       "      <td>debugF52I9A:debugRB4SLX</td>\n",
       "      <td>NaN</td>\n",
       "    </tr>\n",
       "    <tr>\n",
       "      <th>1</th>\n",
       "      <td>1</td>\n",
       "      <td>1498591001354</td>\n",
       "      <td>{u'rt': 8309, u'trial_type': u'text', u'counte...</td>\n",
       "      <td>debugF52I9A:debugRB4SLX</td>\n",
       "      <td>NaN</td>\n",
       "      <td>0</td>\n",
       "      <td>NaN</td>\n",
       "      <td>NaN</td>\n",
       "      <td>0</td>\n",
       "      <td>0.0-1.0</td>\n",
       "      <td>32</td>\n",
       "      <td>8309</td>\n",
       "      <td>NaN</td>\n",
       "      <td>10958</td>\n",
       "      <td>1</td>\n",
       "      <td>text</td>\n",
       "      <td>debugF52I9A:debugRB4SLX</td>\n",
       "      <td>NaN</td>\n",
       "    </tr>\n",
       "    <tr>\n",
       "      <th>2</th>\n",
       "      <td>2</td>\n",
       "      <td>1498591006395</td>\n",
       "      <td>{u'rt': 3033, u'trial_type': u'single-stim', u...</td>\n",
       "      <td>debugF52I9A:debugRB4SLX</td>\n",
       "      <td>blue</td>\n",
       "      <td>0</td>\n",
       "      <td>congruent</td>\n",
       "      <td>B</td>\n",
       "      <td>0</td>\n",
       "      <td>0.0-2.0-0.0</td>\n",
       "      <td>66</td>\n",
       "      <td>3033</td>\n",
       "      <td>&lt;span style='font-size: 50px; color: blue;'&gt;BL...</td>\n",
       "      <td>16000</td>\n",
       "      <td>2</td>\n",
       "      <td>single-stim</td>\n",
       "      <td>debugF52I9A:debugRB4SLX</td>\n",
       "      <td>BLUE</td>\n",
       "    </tr>\n",
       "    <tr>\n",
       "      <th>3</th>\n",
       "      <td>3</td>\n",
       "      <td>1498591008569</td>\n",
       "      <td>{u'rt': 1170, u'trial_type': u'single-stim', u...</td>\n",
       "      <td>debugF52I9A:debugRB4SLX</td>\n",
       "      <td>green</td>\n",
       "      <td>0</td>\n",
       "      <td>congruent</td>\n",
       "      <td>G</td>\n",
       "      <td>0</td>\n",
       "      <td>0.0-2.0-1.0</td>\n",
       "      <td>71</td>\n",
       "      <td>1170</td>\n",
       "      <td>&lt;span style='font-size: 50px; color: green;'&gt;G...</td>\n",
       "      <td>18174</td>\n",
       "      <td>3</td>\n",
       "      <td>single-stim</td>\n",
       "      <td>debugF52I9A:debugRB4SLX</td>\n",
       "      <td>GREEN</td>\n",
       "    </tr>\n",
       "    <tr>\n",
       "      <th>4</th>\n",
       "      <td>4</td>\n",
       "      <td>1498591010900</td>\n",
       "      <td>{u'rt': 1329, u'trial_type': u'single-stim', u...</td>\n",
       "      <td>debugF52I9A:debugRB4SLX</td>\n",
       "      <td>blue</td>\n",
       "      <td>0</td>\n",
       "      <td>unrelated</td>\n",
       "      <td>B</td>\n",
       "      <td>0</td>\n",
       "      <td>0.0-2.0-2.0</td>\n",
       "      <td>66</td>\n",
       "      <td>1329</td>\n",
       "      <td>&lt;span style='font-size: 50px; color: blue;'&gt;ZA...</td>\n",
       "      <td>20505</td>\n",
       "      <td>4</td>\n",
       "      <td>single-stim</td>\n",
       "      <td>debugF52I9A:debugRB4SLX</td>\n",
       "      <td>ZAMBONI</td>\n",
       "    </tr>\n",
       "  </tbody>\n",
       "</table>\n",
       "</div>"
      ],
      "text/plain": [
       "   current_trial       dateTime  \\\n",
       "0              0  1498590992040   \n",
       "1              1  1498591001354   \n",
       "2              2  1498591006395   \n",
       "3              3  1498591008569   \n",
       "4              4  1498591010900   \n",
       "\n",
       "                                           trialdata                 uniqueid  \\\n",
       "0  {u'rt': 1643, u'trial_type': u'text', u'counte...  debugF52I9A:debugRB4SLX   \n",
       "1  {u'rt': 8309, u'trial_type': u'text', u'counte...  debugF52I9A:debugRB4SLX   \n",
       "2  {u'rt': 3033, u'trial_type': u'single-stim', u...  debugF52I9A:debugRB4SLX   \n",
       "3  {u'rt': 1170, u'trial_type': u'single-stim', u...  debugF52I9A:debugRB4SLX   \n",
       "4  {u'rt': 1329, u'trial_type': u'single-stim', u...  debugF52I9A:debugRB4SLX   \n",
       "\n",
       "   color  condition congruence correct_response  counterbalance  \\\n",
       "0    NaN          0        NaN              NaN               0   \n",
       "1    NaN          0        NaN              NaN               0   \n",
       "2   blue          0  congruent                B               0   \n",
       "3  green          0  congruent                G               0   \n",
       "4   blue          0  unrelated                B               0   \n",
       "\n",
       "  internal_node_id  key_press    rt  \\\n",
       "0          0.0-0.0         32  1643   \n",
       "1          0.0-1.0         32  8309   \n",
       "2      0.0-2.0-0.0         66  3033   \n",
       "3      0.0-2.0-1.0         71  1170   \n",
       "4      0.0-2.0-2.0         66  1329   \n",
       "\n",
       "                                            stimulus  time_elapsed  \\\n",
       "0                                                NaN          1645   \n",
       "1                                                NaN         10958   \n",
       "2  <span style='font-size: 50px; color: blue;'>BL...         16000   \n",
       "3  <span style='font-size: 50px; color: green;'>G...         18174   \n",
       "4  <span style='font-size: 50px; color: blue;'>ZA...         20505   \n",
       "\n",
       "   trial_index   trial_type                 uniqueId     word  \n",
       "0            0         text  debugF52I9A:debugRB4SLX      NaN  \n",
       "1            1         text  debugF52I9A:debugRB4SLX      NaN  \n",
       "2            2  single-stim  debugF52I9A:debugRB4SLX     BLUE  \n",
       "3            3  single-stim  debugF52I9A:debugRB4SLX    GREEN  \n",
       "4            4  single-stim  debugF52I9A:debugRB4SLX  ZAMBONI  "
      ]
     },
     "execution_count": 187,
     "metadata": {},
     "output_type": "execute_result"
    }
   ],
   "source": [
    "def getTrialDataDF(data):\n",
    "    tmp=pd.DataFrame(data['data'])\n",
    "    tmp=tmp.join(pd.DataFrame(tmp['trialdata'].tolist()))\n",
    "    tmp.drop('trialdata', 1)\n",
    "    return tmp\n",
    "\n",
    "stdf = dfclean['datastring'].apply(json.loads)\n",
    "finaldata = pd.concat([getTrialDataDF(i) for i in stdf])\n",
    "finaldata.head()"
   ]
  },
  {
   "cell_type": "markdown",
   "metadata": {},
   "source": [
    "As you can see we not have our data in a pretty tidy format where rows are trials and columns describe the nature of a trial and the response/data the subject gave."
   ]
  },
  {
   "cell_type": "markdown",
   "metadata": {},
   "source": [
    "## Analyze the mean reaction time for each condition"
   ]
  },
  {
   "cell_type": "markdown",
   "metadata": {},
   "source": [
    "Next let's just see an example of a simple analysis of the mean reaction time as a function of condition.  First we need to import some plotting libraries."
   ]
  },
  {
   "cell_type": "code",
   "execution_count": 188,
   "metadata": {
    "collapsed": true
   },
   "outputs": [],
   "source": [
    "import numpy as np\n",
    "%matplotlib inline\n",
    "import matplotlib\n",
    "import matplotlib.pyplot as plt"
   ]
  },
  {
   "cell_type": "markdown",
   "metadata": {},
   "source": [
    "Next, we focus on the trials where `trial_type` is `single-stim.`  This is the actual experimental trials and not the instruction screens, etc...  We then group the data by the different values on the congruence column and apply the mean."
   ]
  },
  {
   "cell_type": "code",
   "execution_count": 177,
   "metadata": {
    "collapsed": false
   },
   "outputs": [
    {
     "data": {
      "text/plain": [
       "congruence\n",
       "congruent      1599.666667\n",
       "incongruent    2064.066667\n",
       "unrelated      2104.333333\n",
       "Name: rt, dtype: float64"
      ]
     },
     "execution_count": 177,
     "metadata": {},
     "output_type": "execute_result"
    }
   ],
   "source": [
    "data=finaldata.query(\"trial_type == 'single-stim'\")\n",
    "means=data.groupby([\"congruence\"])[\"rt\"].apply(np.mean)\n",
    "means"
   ]
  },
  {
   "cell_type": "markdown",
   "metadata": {},
   "source": [
    "## Plotting"
   ]
  },
  {
   "cell_type": "markdown",
   "metadata": {},
   "source": [
    "Finally, we can plot the means, hopefully revealing the people are faster on congruent trials than incongruent or unrelated."
   ]
  },
  {
   "cell_type": "code",
   "execution_count": 189,
   "metadata": {
    "collapsed": false
   },
   "outputs": [
    {
     "data": {
      "text/plain": [
       "(<matplotlib.figure.Figure at 0x116266990>,\n",
       " <matplotlib.axes._subplots.AxesSubplot at 0x1162669d0>)"
      ]
     },
     "execution_count": 189,
     "metadata": {},
     "output_type": "execute_result"
    },
    {
     "data": {
      "image/png": "[encoded data removed]",
      "text/plain": [
       "<matplotlib.figure.Figure at 0x116266990>"
      ]
     },
     "metadata": {},
     "output_type": "display_data"
    }
   ],
   "source": [
    "import seaborn as sns\n",
    "\n",
    "def plot_v1(data):\n",
    "    fig, ax = plt.subplots()\n",
    "    ax.bar(np.arange(len(data)), data, align='center')\n",
    "    ax.set_ylim(0, 2500)\n",
    "    ax.set_xticks(np.arange(len(data)))\n",
    "    ax.set_xticklabels([x for x in data.index])\n",
    "    return fig, ax\n",
    "\n",
    "plot_v1(means)"
   ]
  }
 ],
 "metadata": {
  "kernelspec": {
   "display_name": "Python 2",
   "language": "python",
   "name": "python2"
  },
  "language_info": {
   "codemirror_mode": {
    "name": "ipython",
    "version": 2
   },
   "file_extension": ".py",
   "mimetype": "text/x-python",
   "name": "python",
   "nbconvert_exporter": "python",
   "pygments_lexer": "ipython2",
   "version": "2.7.11"
  }
 },
 "nbformat": 4,
 "nbformat_minor": 2
}
